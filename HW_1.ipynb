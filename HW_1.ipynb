{
 "cells": [
  {
   "attachments": {},
   "cell_type": "markdown",
   "metadata": {},
   "source": [
    "# section 1"
   ]
  },
  {
   "cell_type": "code",
   "execution_count": 11,
   "metadata": {},
   "outputs": [],
   "source": [
    "def my_func(x1,x2,x3):\n",
    "    # Check if parameters are float\n",
    "    if type(x1) == float and type(x2) == float and type(x3) == float:\n",
    "        # Calculate the numerator\n",
    "        numerator = x3 * (x2 + x3) * (x1 + x2 + x3)\n",
    "        # Calculate the denominator\n",
    "        denominator = x1 + x2 + x3\n",
    "        # Check if denominator is zero\n",
    "        if denominator == 0:\n",
    "            return(\"Not a number – denominator equals zero\")\n",
    "            \n",
    "        else:\n",
    "            # Calculate the result\n",
    "            result = numerator / denominator\n",
    "            return result\n",
    "    else:\n",
    "        if type(x1) == int and type(x2) == int and type(x3) == int:\n",
    "            print(\"Error: parameters should be float\")\n",
    "        else:\n",
    "            return None\n",
    "\n"
   ]
  },
  {
   "attachments": {},
   "cell_type": "markdown",
   "metadata": {},
   "source": [
    "# section 2.1"
   ]
  },
  {
   "cell_type": "code",
   "execution_count": 57,
   "metadata": {},
   "outputs": [],
   "source": [
    "def revword(word:str):\n",
    "    return word[::-1].lower()\n"
   ]
  },
  {
   "attachments": {},
   "cell_type": "markdown",
   "metadata": {},
   "source": [
    "# section 2.2"
   ]
  },
  {
   "cell_type": "code",
   "execution_count": 62,
   "metadata": {},
   "outputs": [],
   "source": [
    "#Open the file for reading\n",
    "def countword():\n",
    "    f = open(\"text.txt\", \"r\")\n",
    "\n",
    "#Read the first line and store it as word\n",
    "    word = f.readline().strip()\n",
    "\n",
    "#Initialize a counter for word occurrences\n",
    "    count = 0\n",
    "\n",
    "#Loop through the rest of the lines\n",
    "    for line in f: # Reverse each word and convert to lowercase\n",
    "        reversed_words = [revword(w) for w in line.split()] # Check if word is in reversed_words\n",
    "        num  = reversed_words.count(word)\n",
    "        count += num\n",
    "\n",
    "#Close the file\n",
    "    f.close()\n",
    "\n",
    "#Print the result\n",
    "    return (count+1)"
   ]
  },
  {
   "cell_type": "code",
   "execution_count": 64,
   "metadata": {},
   "outputs": [
    {
     "data": {
      "text/plain": [
       "6"
      ]
     },
     "execution_count": 64,
     "metadata": {},
     "output_type": "execute_result"
    }
   ],
   "source": [
    "countword()"
   ]
  }
 ],
 "metadata": {
  "kernelspec": {
   "display_name": "Python 3 (ipykernel)",
   "language": "python",
   "name": "python3"
  },
  "language_info": {
   "codemirror_mode": {
    "name": "ipython",
    "version": 3
   },
   "file_extension": ".py",
   "mimetype": "text/x-python",
   "name": "python",
   "nbconvert_exporter": "python",
   "pygments_lexer": "ipython3",
   "version": "3.9.13"
  },
  "orig_nbformat": 4
 },
 "nbformat": 4,
 "nbformat_minor": 2
}
