{
 "cells": [
  {
   "cell_type": "code",
   "execution_count": 4,
   "metadata": {},
   "outputs": [],
   "source": [
    "def my_func(x1,x2,x3):\n",
    "    # Check if parameters are float\n",
    "    if type(x1) == float and type(x2) == float and type(x3) == float:\n",
    "        # Calculate the numerator\n",
    "        numerator = x3 * (x2 + x3) * (x1 + x2 + x3)\n",
    "        # Calculate the denominator\n",
    "        denominator = x1 + x2 + x3\n",
    "        # Check if denominator is zero\n",
    "        if denominator == 0:\n",
    "            print(\"Not a number – denominator equals zero\")\n",
    "            return None\n",
    "        else:\n",
    "            # Calculate the result\n",
    "            result = numerator / denominator\n",
    "            return result\n",
    "    else:\n",
    "        print(\"Error: parameters should be float\")\n",
    "        return None\n",
    "\n"
   ]
  },
  {
   "cell_type": "code",
   "execution_count": 8,
   "metadata": {},
   "outputs": [
    {
     "name": "stdout",
     "output_type": "stream",
     "text": [
      "Not a number – denominator equals zero\n"
     ]
    }
   ],
   "source": []
  }
 ],
 "metadata": {
  "kernelspec": {
   "display_name": "Python 3 (ipykernel)",
   "language": "python",
   "name": "python3"
  },
  "language_info": {
   "codemirror_mode": {
    "name": "ipython",
    "version": 3
   },
   "file_extension": ".py",
   "mimetype": "text/x-python",
   "name": "python",
   "nbconvert_exporter": "python",
   "pygments_lexer": "ipython3",
   "version": "3.9.13"
  },
  "orig_nbformat": 4
 },
 "nbformat": 4,
 "nbformat_minor": 2
}
